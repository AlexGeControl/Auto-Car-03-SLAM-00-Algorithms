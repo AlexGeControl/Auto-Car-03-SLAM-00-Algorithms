{
 "cells": [
  {
   "cell_type": "markdown",
   "metadata": {
    "deletable": true,
    "editable": true
   },
   "source": [
    "# Jacobian Derivation for BAL"
   ]
  },
  {
   "cell_type": "markdown",
   "metadata": {
    "deletable": true,
    "editable": true
   },
   "source": [
    "## Set Up Session"
   ]
  },
  {
   "cell_type": "code",
   "execution_count": 1,
   "metadata": {
    "collapsed": true,
    "deletable": true,
    "editable": true
   },
   "outputs": [],
   "source": [
    "# set up session:\n",
    "from sympy import *\n",
    "# init_printing(use_unicode=True)"
   ]
  },
  {
   "cell_type": "markdown",
   "metadata": {
    "deletable": true,
    "editable": true
   },
   "source": [
    "## Define Variables"
   ]
  },
  {
   "cell_type": "code",
   "execution_count": 2,
   "metadata": {
    "collapsed": false,
    "deletable": true,
    "editable": true
   },
   "outputs": [],
   "source": [
    "# projection in camera frame:\n",
    "x, y, z = symbols('x y z')\n",
    "# camera intrinsics:\n",
    "fx, fy, cx, cy = symbols('fx fy cx cy')\n",
    "# measurements:\n",
    "u0, v0 = symbols('u0 v0')"
   ]
  },
  {
   "cell_type": "markdown",
   "metadata": {
    "deletable": true,
    "editable": true
   },
   "source": [
    "## Camera Projection with Distortion"
   ]
  },
  {
   "cell_type": "code",
   "execution_count": 3,
   "metadata": {
    "collapsed": true,
    "deletable": true,
    "editable": true
   },
   "outputs": [],
   "source": [
    "# projection on normalized plane:\n",
    "x_prime = (x / z)\n",
    "y_prime = (y / z)\n",
    "\n",
    "# projection on pixel plane:\n",
    "u = fx*x_prime + cx\n",
    "v = fy*y_prime + cy\n",
    "\n",
    "# error:\n",
    "eu = u0 - u\n",
    "ev = v0 - v"
   ]
  },
  {
   "cell_type": "markdown",
   "metadata": {
    "deletable": true,
    "editable": true
   },
   "source": [
    "## Jacobian"
   ]
  },
  {
   "cell_type": "code",
   "execution_count": 4,
   "metadata": {
    "collapsed": true,
    "deletable": true,
    "editable": true
   },
   "outputs": [],
   "source": [
    "# Jacobian of pixel plane projection with respect to projection on normalized plane:\n",
    "J_p_prime = Matrix(\n",
    "    [\n",
    "        [diff(eu, x), diff(eu, y), diff(eu, z)],\n",
    "        [diff(ev, x), diff(ev, y), diff(ev, z)]\n",
    "    ]\n",
    ")\n",
    "# Jacobian of normalized plane projection with respect to se3:\n",
    "J_lie = -Matrix(\n",
    "    [\n",
    "        [+0, -z, +y],\n",
    "        [+z, +0, -x],\n",
    "        [-y, +x, +0]\n",
    "    ]\n",
    ")\n",
    "\n",
    "# dim 0~2 of CameraBAL:\n",
    "J_rotation = simplify(J_p_prime * J_lie)\n",
    "# dim 3~5 of CameraBAL:\n",
    "J_translation = simplify(J_p_prime)\n",
    "\n",
    "# final Jacobians:\n",
    "J_xi = Matrix(\n",
    "    [\n",
    "        (J_rotation.row(0).tolist()[0] + J_translation.row(0).tolist()[0]),\n",
    "        (J_rotation.row(1).tolist()[0] + J_translation.row(1).tolist()[0]),        \n",
    "    ]\n",
    ")\n",
    "J_xj = simplify(J_p_prime)"
   ]
  },
  {
   "cell_type": "markdown",
   "metadata": {
    "deletable": true,
    "editable": true
   },
   "source": [
    "## Convert to Ready-to-Use Format for G2O"
   ]
  },
  {
   "cell_type": "code",
   "execution_count": 5,
   "metadata": {
    "collapsed": false,
    "deletable": true,
    "editable": true
   },
   "outputs": [],
   "source": [
    "def convert_to_g2o_code(J, vertex_name):\n",
    "    \"\"\" convert matrix in sympy to g2o c++ code\n",
    "    \"\"\"\n",
    "    result = []\n",
    "\n",
    "    for i in range(2):\n",
    "        desc = str(J.row(i).tolist()[0])\n",
    "        # orders:\n",
    "        for k in range(2, 7):\n",
    "            # variables:\n",
    "            for v in 'xyz':\n",
    "                src = \"{v}**{k}\".format(v=v, k=k)\n",
    "                dst = \"{v}_{k}\".format(v=v, k=k)\n",
    "\n",
    "                desc = desc.replace(src, dst)\n",
    "        \n",
    "        result.append(\n",
    "            \"\\n\".join(\n",
    "                [\n",
    "                    \"_jacobianOplusX{vertex_name}({i},{j}) = {v};\".format(\n",
    "                        vertex_name=vertex_name,\n",
    "                        i=i, j=j, \n",
    "                        v=v\n",
    "                    ) \n",
    "                    for j,v in enumerate(desc[1:-1].split(','))\n",
    "                ]\n",
    "            )\n",
    "        )\n",
    "\n",
    "    return \"\\n\\n\".join(result)"
   ]
  },
  {
   "cell_type": "code",
   "execution_count": 6,
   "metadata": {
    "collapsed": false,
    "deletable": true,
    "editable": true
   },
   "outputs": [
    {
     "name": "stdout",
     "output_type": "stream",
     "text": [
      "_jacobianOplusXi(0,0) = fx*x*y/z_2;\n",
      "_jacobianOplusXi(0,1) =  -fx*x_2/z_2 - fx;\n",
      "_jacobianOplusXi(0,2) =  fx*y/z;\n",
      "_jacobianOplusXi(0,3) =  -fx/z;\n",
      "_jacobianOplusXi(0,4) =  0;\n",
      "_jacobianOplusXi(0,5) =  fx*x/z_2;\n",
      "\n",
      "_jacobianOplusXi(1,0) = fy*y_2/z_2 + fy;\n",
      "_jacobianOplusXi(1,1) =  -fy*x*y/z_2;\n",
      "_jacobianOplusXi(1,2) =  -fy*x/z;\n",
      "_jacobianOplusXi(1,3) =  0;\n",
      "_jacobianOplusXi(1,4) =  -fy/z;\n",
      "_jacobianOplusXi(1,5) =  fy*y/z_2;\n"
     ]
    }
   ],
   "source": [
    "# vertex_camera:\n",
    "print(convert_to_g2o_code(J_xi, 'i'))"
   ]
  },
  {
   "cell_type": "code",
   "execution_count": 7,
   "metadata": {
    "collapsed": false,
    "deletable": true,
    "editable": true
   },
   "outputs": [
    {
     "name": "stdout",
     "output_type": "stream",
     "text": [
      "_jacobianOplusXj(0,0) = -fx/z;\n",
      "_jacobianOplusXj(0,1) =  0;\n",
      "_jacobianOplusXj(0,2) =  fx*x/z_2;\n",
      "\n",
      "_jacobianOplusXj(1,0) = 0;\n",
      "_jacobianOplusXj(1,1) =  -fy/z;\n",
      "_jacobianOplusXj(1,2) =  fy*y/z_2;\n"
     ]
    }
   ],
   "source": [
    "# vertex_point, partial:\n",
    "print(convert_to_g2o_code(J_xj, 'j'))"
   ]
  }
 ],
 "metadata": {
  "kernelspec": {
   "display_name": "Python [conda env:aind]",
   "language": "python",
   "name": "conda-env-aind-py"
  },
  "language_info": {
   "codemirror_mode": {
    "name": "ipython",
    "version": 3
   },
   "file_extension": ".py",
   "mimetype": "text/x-python",
   "name": "python",
   "nbconvert_exporter": "python",
   "pygments_lexer": "ipython3",
   "version": "3.6.0"
  }
 },
 "nbformat": 4,
 "nbformat_minor": 2
}
