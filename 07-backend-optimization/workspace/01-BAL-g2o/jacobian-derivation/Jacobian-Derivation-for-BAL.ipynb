{
 "cells": [
  {
   "cell_type": "markdown",
   "metadata": {
    "deletable": true,
    "editable": true
   },
   "source": [
    "# Jacobian Derivation for BAL"
   ]
  },
  {
   "cell_type": "markdown",
   "metadata": {},
   "source": [
    "## Set Up Session"
   ]
  },
  {
   "cell_type": "code",
   "execution_count": 1,
   "metadata": {
    "collapsed": true,
    "deletable": true,
    "editable": true
   },
   "outputs": [],
   "source": [
    "# set up session:\n",
    "from sympy import *\n",
    "# init_printing(use_unicode=True)"
   ]
  },
  {
   "cell_type": "markdown",
   "metadata": {},
   "source": [
    "## Define Variables"
   ]
  },
  {
   "cell_type": "code",
   "execution_count": 2,
   "metadata": {
    "collapsed": false,
    "deletable": true,
    "editable": true
   },
   "outputs": [],
   "source": [
    "# projection in camera frame:\n",
    "x, y, z = symbols('x y z')\n",
    "# camera intrinsics & distortion:\n",
    "f, k1, k2 = symbols('f k1 k2')\n",
    "# measurement:\n",
    "u0, v0 = symbols('u0 v0')"
   ]
  },
  {
   "cell_type": "markdown",
   "metadata": {
    "deletable": true,
    "editable": true
   },
   "source": [
    "## Camera Projection with Distortion"
   ]
  },
  {
   "cell_type": "code",
   "execution_count": 3,
   "metadata": {
    "collapsed": true,
    "deletable": true,
    "editable": true
   },
   "outputs": [],
   "source": [
    "# projection on normalized plane:\n",
    "x_prime = -(x / z)\n",
    "y_prime = -(y / z)\n",
    "\n",
    "# distortion factor:\n",
    "r_square = (x_prime**2 + y_prime**2)\n",
    "distortion_factor = 1 + r_square*(k1 + k2*r_square)\n",
    "\n",
    "# projection on pixel plane:\n",
    "u = f*distortion_factor*x_prime\n",
    "v = f*distortion_factor*y_prime\n",
    "\n",
    "# error:\n",
    "eu = u0 - u\n",
    "ev = v0 - v"
   ]
  },
  {
   "cell_type": "markdown",
   "metadata": {
    "deletable": true,
    "editable": true
   },
   "source": [
    "## Jacobian"
   ]
  },
  {
   "cell_type": "code",
   "execution_count": 4,
   "metadata": {
    "collapsed": true,
    "deletable": true,
    "editable": true
   },
   "outputs": [],
   "source": [
    "# Jacobian of pixel plane projection with respect to projection on normalized plane:\n",
    "J_p_prime = Matrix(\n",
    "    [\n",
    "        [diff(eu, x), diff(eu, y), diff(eu, z)],\n",
    "        [diff(ev, x), diff(ev, y), diff(ev, z)]\n",
    "    ]\n",
    ")\n",
    "# Jacobian of normalized plane projection with respect to se3:\n",
    "J_lie = -Matrix(\n",
    "    [\n",
    "        [+0, -z, +y],\n",
    "        [+z, +0, -x],\n",
    "        [-y, +x, +0]\n",
    "    ]\n",
    ")\n",
    "# Jacobian of pixel plane projection with respect to camera intrinsics and radial distortions\n",
    "J_camera = Matrix(\n",
    "    [\n",
    "        [diff(eu, f), diff(eu, k1), diff(eu, k2)],\n",
    "        [diff(ev, f), diff(ev, k1), diff(ev, k2)]\n",
    "    ]\n",
    ")\n",
    "# dim 0~2 of CameraBAL:\n",
    "J_rotation = simplify(J_p_prime * J_lie)\n",
    "# dim 3~5 of CameraBAL:\n",
    "J_translation = simplify(J_p_prime)\n",
    "# dim 6~8 of CameraBAL:\n",
    "J_projection = simplify(J_camera)\n",
    "\n",
    "# final Jacobians:\n",
    "J_xi = Matrix(\n",
    "    [\n",
    "        (J_rotation.row(0).tolist()[0] + J_translation.row(0).tolist()[0] + J_projection.row(0).tolist()[0]),\n",
    "        (J_rotation.row(1).tolist()[0] + J_translation.row(1).tolist()[0] + J_projection.row(1).tolist()[0]),        \n",
    "    ]\n",
    ")\n",
    "J_xj = simplify(J_p_prime)"
   ]
  },
  {
   "cell_type": "markdown",
   "metadata": {
    "deletable": true,
    "editable": true
   },
   "source": [
    "## Convert to Ready-to-Use Format for G2O"
   ]
  },
  {
   "cell_type": "code",
   "execution_count": 5,
   "metadata": {
    "collapsed": false
   },
   "outputs": [],
   "source": [
    "def convert_to_g2o_code(J, vertex_name):\n",
    "    \"\"\" convert matrix in sympy to g2o c++ code\n",
    "    \"\"\"\n",
    "    result = []\n",
    "\n",
    "    for i in range(2):\n",
    "        desc = str(J.row(i).tolist()[0])\n",
    "        # orders:\n",
    "        for k in range(2, 7):\n",
    "            # variables:\n",
    "            for v in 'xyz':\n",
    "                src = \"{v}**{k}\".format(v=v, k=k)\n",
    "                dst = \"{v}_{k}\".format(v=v, k=k)\n",
    "\n",
    "                desc = desc.replace(src, dst)\n",
    "        # radial:\n",
    "        desc = desc.replace('(x_2 + y_2)', 'r_2')\n",
    "        desc = desc.replace('r_2**2', 'r_4')\n",
    "        \n",
    "        result.append(\n",
    "            \"\\n\".join(\n",
    "                [\n",
    "                    \"_jacobianOplusX{vertex_name}({i},{j}) = {v};\".format(\n",
    "                        vertex_name=vertex_name,\n",
    "                        i=i, j=j, \n",
    "                        v=v\n",
    "                    ) \n",
    "                    for j,v in enumerate(desc[1:-1].split(','))\n",
    "                ]\n",
    "            )\n",
    "        )\n",
    "\n",
    "    return \"\\n\\n\".join(result)"
   ]
  },
  {
   "cell_type": "code",
   "execution_count": 6,
   "metadata": {
    "collapsed": false
   },
   "outputs": [
    {
     "name": "stdout",
     "output_type": "stream",
     "text": [
      "_jacobianOplusXi(0,0) = -f*x*y*(z_4 + 2*z_2*(k1*z_2 + 2*k2*r_2) + r_2*(k1*z_2 + k2*r_2) + 2*r_2*(k1*z_2 + 2*k2*r_2))/z_6;\n",
      "_jacobianOplusXi(0,1) =  f*(x_2*(z_4 + r_2*(k1*z_2 + k2*r_2) + 2*r_2*(k1*z_2 + 2*k2*r_2)) + z_2*(2*x_2*(k1*z_2 + 2*k2*r_2) + z_4 + r_2*(k1*z_2 + k2*r_2)))/z_6;\n",
      "_jacobianOplusXi(0,2) =  -f*y*(z_4 + r_2*(k1*z_2 + k2*r_2))/z_5;\n",
      "_jacobianOplusXi(0,3) =  f*(2*x_2*(k1*z_2 + 2*k2*r_2) + z_4 + r_2*(k1*z_2 + k2*r_2))/z_5;\n",
      "_jacobianOplusXi(0,4) =  2*f*x*y*(k1*z_2 + 2*k2*r_2)/z_5;\n",
      "_jacobianOplusXi(0,5) =  -f*x*(z_4 + r_2*(k1*z_2 + k2*r_2) + 2*r_2*(k1*z_2 + 2*k2*r_2))/z_6;\n",
      "_jacobianOplusXi(0,6) =  x*(z_4 + r_2*(k1*z_2 + k2*r_2))/z_5;\n",
      "_jacobianOplusXi(0,7) =  f*x*r_2/z_3;\n",
      "_jacobianOplusXi(0,8) =  f*x*r_4/z_5;\n",
      "\n",
      "_jacobianOplusXi(1,0) = -f*(y_2*(z_4 + r_2*(k1*z_2 + k2*r_2) + 2*r_2*(k1*z_2 + 2*k2*r_2)) + z_2*(2*y_2*(k1*z_2 + 2*k2*r_2) + z_4 + r_2*(k1*z_2 + k2*r_2)))/z_6;\n",
      "_jacobianOplusXi(1,1) =  f*x*y*(z_4 + 2*z_2*(k1*z_2 + 2*k2*r_2) + r_2*(k1*z_2 + k2*r_2) + 2*r_2*(k1*z_2 + 2*k2*r_2))/z_6;\n",
      "_jacobianOplusXi(1,2) =  f*x*(z_4 + r_2*(k1*z_2 + k2*r_2))/z_5;\n",
      "_jacobianOplusXi(1,3) =  2*f*x*y*(k1*z_2 + 2*k2*r_2)/z_5;\n",
      "_jacobianOplusXi(1,4) =  f*(2*y_2*(k1*z_2 + 2*k2*r_2) + z_4 + r_2*(k1*z_2 + k2*r_2))/z_5;\n",
      "_jacobianOplusXi(1,5) =  -f*y*(z_4 + r_2*(k1*z_2 + k2*r_2) + 2*r_2*(k1*z_2 + 2*k2*r_2))/z_6;\n",
      "_jacobianOplusXi(1,6) =  y*(z_4 + r_2*(k1*z_2 + k2*r_2))/z_5;\n",
      "_jacobianOplusXi(1,7) =  f*y*r_2/z_3;\n",
      "_jacobianOplusXi(1,8) =  f*y*r_4/z_5;\n"
     ]
    }
   ],
   "source": [
    "# vertex_camera:\n",
    "print(convert_to_g2o_code(J_xi, 'i'))"
   ]
  },
  {
   "cell_type": "code",
   "execution_count": 7,
   "metadata": {
    "collapsed": false,
    "deletable": true,
    "editable": true
   },
   "outputs": [
    {
     "name": "stdout",
     "output_type": "stream",
     "text": [
      "_jacobianOplusXj(0,0) = f*(2*x_2*(k1*z_2 + 2*k2*r_2) + z_4 + r_2*(k1*z_2 + k2*r_2))/z_5;\n",
      "_jacobianOplusXj(0,1) =  2*f*x*y*(k1*z_2 + 2*k2*r_2)/z_5;\n",
      "_jacobianOplusXj(0,2) =  -f*x*(z_4 + r_2*(k1*z_2 + k2*r_2) + 2*r_2*(k1*z_2 + 2*k2*r_2))/z_6;\n",
      "\n",
      "_jacobianOplusXj(1,0) = 2*f*x*y*(k1*z_2 + 2*k2*r_2)/z_5;\n",
      "_jacobianOplusXj(1,1) =  f*(2*y_2*(k1*z_2 + 2*k2*r_2) + z_4 + r_2*(k1*z_2 + k2*r_2))/z_5;\n",
      "_jacobianOplusXj(1,2) =  -f*y*(z_4 + r_2*(k1*z_2 + k2*r_2) + 2*r_2*(k1*z_2 + 2*k2*r_2))/z_6;\n"
     ]
    }
   ],
   "source": [
    "# vertex_point, partial:\n",
    "print(convert_to_g2o_code(J_xj, 'j'))"
   ]
  }
 ],
 "metadata": {
  "kernelspec": {
   "display_name": "Python [conda env:aind]",
   "language": "python",
   "name": "conda-env-aind-py"
  },
  "language_info": {
   "codemirror_mode": {
    "name": "ipython",
    "version": 3
   },
   "file_extension": ".py",
   "mimetype": "text/x-python",
   "name": "python",
   "nbconvert_exporter": "python",
   "pygments_lexer": "ipython3",
   "version": "3.6.0"
  }
 },
 "nbformat": 4,
 "nbformat_minor": 2
}
